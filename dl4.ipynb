{
 "cells": [
  {
   "cell_type": "code",
   "execution_count": 4,
   "id": "889007ad",
   "metadata": {},
   "outputs": [],
   "source": [
    "#import required libraries\n",
    "import numpy as np\n",
    "import pandas as pd\n",
    "import tensorflow as tf\n",
    "from sklearn.model_selection import train_test_split\n",
    "from sklearn.preprocessing import StandardScaler\n",
    "from tensorflow.keras import layers, models"
   ]
  },
  {
   "cell_type": "code",
   "execution_count": 5,
   "id": "1c495565",
   "metadata": {},
   "outputs": [],
   "source": [
    "data = pd.read_csv('creditcard.csv')\n",
    "\n",
    "# Split the data into features and labels\n",
    "X = data.drop(['Class'], axis=1)\n",
    "y = data['Class']\n",
    "\n",
    "# Split the data into training and testing sets\n",
    "X_train, X_test, y_train, y_test = train_test_split(X, y, test_size=0.2, random_state=42)\n",
    "\n",
    "# Standardize the data\n",
    "scaler = StandardScaler()\n",
    "X_train = scaler.fit_transform(X_train)\n",
    "X_test = scaler.transform(X_test)"
   ]
  },
  {
   "cell_type": "code",
   "execution_count": 7,
   "id": "a2468ab5",
   "metadata": {},
   "outputs": [
    {
     "name": "stdout",
     "output_type": "stream",
     "text": [
      "Model: \"model\"\n",
      "_________________________________________________________________\n",
      " Layer (type)                Output Shape              Param #   \n",
      "=================================================================\n",
      " input_2 (InputLayer)        [(None, 30)]              0         \n",
      "                                                                 \n",
      " dense_1 (Dense)             (None, 14)                434       \n",
      "                                                                 \n",
      " dropout_1 (Dropout)         (None, 14)                0         \n",
      "                                                                 \n",
      " dense_2 (Dense)             (None, 7)                 105       \n",
      "                                                                 \n",
      " dense_3 (Dense)             (None, 4)                 32        \n",
      "                                                                 \n",
      " dense_4 (Dense)             (None, 7)                 35        \n",
      "                                                                 \n",
      " dropout_2 (Dropout)         (None, 7)                 0         \n",
      "                                                                 \n",
      " dense_5 (Dense)             (None, 14)                112       \n",
      "                                                                 \n",
      " dense_6 (Dense)             (None, 30)                450       \n",
      "                                                                 \n",
      "=================================================================\n",
      "Total params: 1168 (4.56 KB)\n",
      "Trainable params: 1168 (4.56 KB)\n",
      "Non-trainable params: 0 (0.00 Byte)\n",
      "_________________________________________________________________\n"
     ]
    }
   ],
   "source": [
    "input_dim = X_train.shape[1]\n",
    "encoding_dim = 14\n",
    "hidden_dim1=int(encoding_dim/2)\n",
    "hidden_dim2=4\n",
    "\n",
    "input_layer = tf.keras.Input(shape=(input_dim, ))\n",
    "encoder = tf.keras.layers.Dense(encoding_dim, activation=\"tanh\")(input_layer)\n",
    "encoder = tf.keras.layers.Dropout(0.2)(encoder)\n",
    "encoder = tf.keras.layers.Dense(hidden_dim1, activation='relu')(encoder)\n",
    "encoder = tf.keras.layers.Dense(hidden_dim2, activation=tf.nn.leaky_relu)(encoder)\n",
    "\n",
    "decoder = tf.keras.layers.Dense(hidden_dim1, activation='relu')(encoder)\n",
    "decoder = tf.keras.layers.Dropout(0.2)(decoder)\n",
    "decoder = tf.keras.layers.Dense(encoding_dim, activation='relu')(decoder)\n",
    "decoder = tf.keras.layers.Dense(input_dim, activation='tanh')(decoder)\n",
    "\n",
    "autoencoder = tf.keras.Model(inputs=input_layer, outputs=decoder)\n",
    "autoencoder.summary()"
   ]
  },
  {
   "cell_type": "code",
   "execution_count": 8,
   "id": "41b56976",
   "metadata": {},
   "outputs": [
    {
     "name": "stdout",
     "output_type": "stream",
     "text": [
      "Epoch 1/10\n",
      "7121/7121 [==============================] - 6s 846us/step - loss: 0.8842 - val_loss: 0.8145\n",
      "Epoch 2/10\n",
      "7121/7121 [==============================] - 6s 832us/step - loss: 0.8428 - val_loss: 0.7973\n",
      "Epoch 3/10\n",
      "7121/7121 [==============================] - 6s 832us/step - loss: 0.8326 - val_loss: 0.7909\n",
      "Epoch 4/10\n",
      "7121/7121 [==============================] - 6s 831us/step - loss: 0.8274 - val_loss: 0.7864\n",
      "Epoch 5/10\n",
      "7121/7121 [==============================] - 6s 831us/step - loss: 0.8250 - val_loss: 0.7848\n",
      "Epoch 6/10\n",
      "7121/7121 [==============================] - 6s 830us/step - loss: 0.8237 - val_loss: 0.7833\n",
      "Epoch 7/10\n",
      "7121/7121 [==============================] - 6s 831us/step - loss: 0.8228 - val_loss: 0.7835\n",
      "Epoch 8/10\n",
      "7121/7121 [==============================] - 6s 831us/step - loss: 0.8218 - val_loss: 0.7821\n",
      "Epoch 9/10\n",
      "7121/7121 [==============================] - 6s 833us/step - loss: 0.8210 - val_loss: 0.7829\n",
      "Epoch 10/10\n",
      "7121/7121 [==============================] - 6s 831us/step - loss: 0.8204 - val_loss: 0.7837\n",
      "1781/1781 [==============================] - 1s 428us/step\n",
      "Accuracy: 99.00%\n",
      "Confusion Matrix:\n",
      " [[56344   520]\n",
      " [   48    50]]\n",
      "Classification Report:\n",
      "               precision    recall  f1-score   support\n",
      "\n",
      "           0       1.00      0.99      0.99     56864\n",
      "           1       0.09      0.51      0.15        98\n",
      "\n",
      "    accuracy                           0.99     56962\n",
      "   macro avg       0.54      0.75      0.57     56962\n",
      "weighted avg       1.00      0.99      0.99     56962\n",
      "\n"
     ]
    }
   ],
   "source": [
    "# 5. Compile the models with Optimizer, Loss, and Evaluation Metrics\n",
    "autoencoder.compile(optimizer='adam', loss='mean_squared_error')\n",
    "\n",
    "# Train the autoencoder\n",
    "autoencoder.fit(X_train, X_train, epochs=10, batch_size=32, shuffle=True, validation_data=(X_test, X_test))\n",
    "\n",
    "# Predict using the autoencoder\n",
    "reconstructed = autoencoder.predict(X_test)\n",
    "\n",
    "# Calculate the Mean Squared Error (MSE) between original and reconstructed data\n",
    "mse = np.mean(np.power(X_test - reconstructed, 2), axis=1)\n",
    "\n",
    "# Define a threshold for anomaly detection\n",
    "threshold = np.mean(mse) + 2 * np.std(mse)\n",
    "\n",
    "# Classify anomalies based on the threshold\n",
    "y_pred = (mse > threshold).astype(int)\n",
    "\n",
    "# Evaluate the model\n",
    "from sklearn.metrics import accuracy_score, confusion_matrix, classification_report\n",
    "print(\"Accuracy: {:.2f}%\".format(accuracy_score(y_test, y_pred) * 100))\n",
    "print(\"Confusion Matrix:\\n\", confusion_matrix(y_test, y_pred))\n",
    "print(\"Classification Report:\\n\", classification_report(y_test, y_pred))"
   ]
  },
  {
   "cell_type": "code",
   "execution_count": null,
   "id": "ca5ce9db",
   "metadata": {},
   "outputs": [],
   "source": []
  }
 ],
 "metadata": {
  "kernelspec": {
   "display_name": "Python 3 (ipykernel)",
   "language": "python",
   "name": "python3"
  },
  "language_info": {
   "codemirror_mode": {
    "name": "ipython",
    "version": 3
   },
   "file_extension": ".py",
   "mimetype": "text/x-python",
   "name": "python",
   "nbconvert_exporter": "python",
   "pygments_lexer": "ipython3",
   "version": "3.11.3"
  }
 },
 "nbformat": 4,
 "nbformat_minor": 5
}
